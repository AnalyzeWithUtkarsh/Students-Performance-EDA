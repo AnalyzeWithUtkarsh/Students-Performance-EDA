{
 "cells": [
  {
   "cell_type": "markdown",
   "id": "2f76502f",
   "metadata": {},
   "source": [
    "# Students Performance EDA"
   ]
  },
  {
   "cell_type": "code",
   "execution_count": 1,
   "id": "bf71f0ba",
   "metadata": {},
   "outputs": [
    {
     "name": "stderr",
     "output_type": "stream",
     "text": [
      "C:\\Users\\shagu\\anaconda3\\lib\\site-packages\\scipy\\__init__.py:146: UserWarning: A NumPy version >=1.16.5 and <1.23.0 is required for this version of SciPy (detected version 1.23.5\n",
      "  warnings.warn(f\"A NumPy version >={np_minversion} and <{np_maxversion}\"\n"
     ]
    }
   ],
   "source": [
    "import pandas as pd\n",
    "import numpy as np\n",
    "import seaborn as sns\n",
    "from matplotlib import pyplot\n",
    "import matplotlib"
   ]
  },
  {
   "cell_type": "code",
   "execution_count": 2,
   "id": "c83fef3f",
   "metadata": {},
   "outputs": [
    {
     "data": {
      "text/html": [
       "<div>\n",
       "<style scoped>\n",
       "    .dataframe tbody tr th:only-of-type {\n",
       "        vertical-align: middle;\n",
       "    }\n",
       "\n",
       "    .dataframe tbody tr th {\n",
       "        vertical-align: top;\n",
       "    }\n",
       "\n",
       "    .dataframe thead th {\n",
       "        text-align: right;\n",
       "    }\n",
       "</style>\n",
       "<table border=\"1\" class=\"dataframe\">\n",
       "  <thead>\n",
       "    <tr style=\"text-align: right;\">\n",
       "      <th></th>\n",
       "      <th>Gender</th>\n",
       "      <th>Year_of_Study</th>\n",
       "      <th>Branch</th>\n",
       "      <th>Type_of_Schooling_till_10th_Grade</th>\n",
       "      <th>Percentage_in_Class_10th</th>\n",
       "      <th>Location_of_Class_10th_School</th>\n",
       "      <th>Type_of_Schooling_for_class_12th</th>\n",
       "      <th>Percentage_in_Class_12th</th>\n",
       "      <th>Location_of_Class_12th_School</th>\n",
       "      <th>Dropped_an_year_after_School</th>\n",
       "      <th>...</th>\n",
       "      <th>Exposure_to_DSA</th>\n",
       "      <th>Exposure_to_GitHub</th>\n",
       "      <th>Associated_with_any_developer_Community</th>\n",
       "      <th>Active_in_developer_Communities</th>\n",
       "      <th>Participating_in_Hackathons_and_other_competitions</th>\n",
       "      <th>Made_any_Software_based_projects</th>\n",
       "      <th>Made_any_Hardware_based_project (Arduino, Raspberry Pi, Robots or any other)</th>\n",
       "      <th>Have_you_ever_pitched_any_idea</th>\n",
       "      <th>Additional_skills</th>\n",
       "      <th>Achievements</th>\n",
       "    </tr>\n",
       "  </thead>\n",
       "  <tbody>\n",
       "    <tr>\n",
       "      <th>0</th>\n",
       "      <td>Male</td>\n",
       "      <td>Third</td>\n",
       "      <td>CSE/IT</td>\n",
       "      <td>Normal Schooling</td>\n",
       "      <td>&gt;=80% and &lt;90%</td>\n",
       "      <td>Town</td>\n",
       "      <td>Normal Schooling</td>\n",
       "      <td>&gt;=80% and &lt;90%</td>\n",
       "      <td>Town</td>\n",
       "      <td>Yes</td>\n",
       "      <td>...</td>\n",
       "      <td>Hard</td>\n",
       "      <td>Medium</td>\n",
       "      <td>Yes</td>\n",
       "      <td>Active Member</td>\n",
       "      <td>Participated</td>\n",
       "      <td>Yes</td>\n",
       "      <td>No</td>\n",
       "      <td>Yes</td>\n",
       "      <td>Cultural Activities</td>\n",
       "      <td>Scholarships;Hackathons;Research Papers;Projects</td>\n",
       "    </tr>\n",
       "    <tr>\n",
       "      <th>1</th>\n",
       "      <td>Female</td>\n",
       "      <td>Second</td>\n",
       "      <td>CSE/IT</td>\n",
       "      <td>Schooling with Tuitions</td>\n",
       "      <td>&gt;= 90%</td>\n",
       "      <td>City</td>\n",
       "      <td>Schooling with Tuitions</td>\n",
       "      <td>&gt;=90%</td>\n",
       "      <td>City</td>\n",
       "      <td>No</td>\n",
       "      <td>...</td>\n",
       "      <td>Medium</td>\n",
       "      <td>Medium</td>\n",
       "      <td>No</td>\n",
       "      <td>Moderately Active</td>\n",
       "      <td>Not yet participated</td>\n",
       "      <td>Yes</td>\n",
       "      <td>No</td>\n",
       "      <td>No</td>\n",
       "      <td>Cultural Activities</td>\n",
       "      <td>None</td>\n",
       "    </tr>\n",
       "    <tr>\n",
       "      <th>2</th>\n",
       "      <td>Male</td>\n",
       "      <td>Second</td>\n",
       "      <td>CSE/IT</td>\n",
       "      <td>Normal Schooling</td>\n",
       "      <td>&gt;= 90%</td>\n",
       "      <td>City</td>\n",
       "      <td>Coaching Based Schools</td>\n",
       "      <td>&gt;=90%</td>\n",
       "      <td>City</td>\n",
       "      <td>Yes</td>\n",
       "      <td>...</td>\n",
       "      <td>Medium</td>\n",
       "      <td>Medium</td>\n",
       "      <td>No</td>\n",
       "      <td>Inactive Member</td>\n",
       "      <td>Not yet participated</td>\n",
       "      <td>Yes</td>\n",
       "      <td>No</td>\n",
       "      <td>No</td>\n",
       "      <td>Photography;Video Editing</td>\n",
       "      <td>None</td>\n",
       "    </tr>\n",
       "    <tr>\n",
       "      <th>3</th>\n",
       "      <td>Male</td>\n",
       "      <td>Second</td>\n",
       "      <td>CSE/IT</td>\n",
       "      <td>Normal Schooling</td>\n",
       "      <td>&gt;=70% and &lt;80%</td>\n",
       "      <td>City</td>\n",
       "      <td>Normal Schooling</td>\n",
       "      <td>&gt;=80% and &lt;90%</td>\n",
       "      <td>City</td>\n",
       "      <td>Yes</td>\n",
       "      <td>...</td>\n",
       "      <td>Medium</td>\n",
       "      <td>Easy</td>\n",
       "      <td>Yes</td>\n",
       "      <td>Moderately Active</td>\n",
       "      <td>Not yet participated</td>\n",
       "      <td>Yes</td>\n",
       "      <td>Yes</td>\n",
       "      <td>No</td>\n",
       "      <td>None</td>\n",
       "      <td>None</td>\n",
       "    </tr>\n",
       "    <tr>\n",
       "      <th>4</th>\n",
       "      <td>Male</td>\n",
       "      <td>Second</td>\n",
       "      <td>CSE/IT</td>\n",
       "      <td>Normal Schooling</td>\n",
       "      <td>&gt;=70% and &lt;80%</td>\n",
       "      <td>City</td>\n",
       "      <td>Normal Schooling</td>\n",
       "      <td>&gt;=80% and &lt;90%</td>\n",
       "      <td>City</td>\n",
       "      <td>Yes</td>\n",
       "      <td>...</td>\n",
       "      <td>Medium</td>\n",
       "      <td>Hard</td>\n",
       "      <td>Yes</td>\n",
       "      <td>Active Member</td>\n",
       "      <td>Participated</td>\n",
       "      <td>Yes</td>\n",
       "      <td>No</td>\n",
       "      <td>Yes</td>\n",
       "      <td>None</td>\n",
       "      <td>Hackathons;Coding Competitions;Projects</td>\n",
       "    </tr>\n",
       "  </tbody>\n",
       "</table>\n",
       "<p>5 rows × 24 columns</p>\n",
       "</div>"
      ],
      "text/plain": [
       "   Gender Year_of_Study  Branch Type_of_Schooling_till_10th_Grade  \\\n",
       "0    Male         Third  CSE/IT                  Normal Schooling   \n",
       "1  Female        Second  CSE/IT           Schooling with Tuitions   \n",
       "2    Male        Second  CSE/IT                  Normal Schooling   \n",
       "3    Male        Second  CSE/IT                  Normal Schooling   \n",
       "4    Male        Second  CSE/IT                  Normal Schooling   \n",
       "\n",
       "  Percentage_in_Class_10th Location_of_Class_10th_School  \\\n",
       "0           >=80% and <90%                          Town   \n",
       "1                   >= 90%                          City   \n",
       "2                   >= 90%                          City   \n",
       "3           >=70% and <80%                          City   \n",
       "4           >=70% and <80%                          City   \n",
       "\n",
       "   Type_of_Schooling_for_class_12th Percentage_in_Class_12th  \\\n",
       "0                  Normal Schooling           >=80% and <90%   \n",
       "1           Schooling with Tuitions                    >=90%   \n",
       "2            Coaching Based Schools                    >=90%   \n",
       "3                  Normal Schooling           >=80% and <90%   \n",
       "4                  Normal Schooling           >=80% and <90%   \n",
       "\n",
       "  Location_of_Class_12th_School Dropped_an_year_after_School  ...  \\\n",
       "0                          Town                          Yes  ...   \n",
       "1                          City                           No  ...   \n",
       "2                          City                          Yes  ...   \n",
       "3                          City                          Yes  ...   \n",
       "4                          City                          Yes  ...   \n",
       "\n",
       "  Exposure_to_DSA Exposure_to_GitHub  Associated_with_any_developer_Community  \\\n",
       "0            Hard              Medium                                     Yes   \n",
       "1          Medium              Medium                                      No   \n",
       "2          Medium              Medium                                      No   \n",
       "3          Medium                Easy                                     Yes   \n",
       "4          Medium                Hard                                     Yes   \n",
       "\n",
       "  Active_in_developer_Communities  \\\n",
       "0                   Active Member   \n",
       "1               Moderately Active   \n",
       "2                 Inactive Member   \n",
       "3               Moderately Active   \n",
       "4                   Active Member   \n",
       "\n",
       "  Participating_in_Hackathons_and_other_competitions  \\\n",
       "0                                       Participated   \n",
       "1                               Not yet participated   \n",
       "2                               Not yet participated   \n",
       "3                               Not yet participated   \n",
       "4                                       Participated   \n",
       "\n",
       "  Made_any_Software_based_projects  \\\n",
       "0                              Yes   \n",
       "1                              Yes   \n",
       "2                              Yes   \n",
       "3                              Yes   \n",
       "4                              Yes   \n",
       "\n",
       "  Made_any_Hardware_based_project (Arduino, Raspberry Pi, Robots or any other)  \\\n",
       "0                                                 No                             \n",
       "1                                                 No                             \n",
       "2                                                 No                             \n",
       "3                                                Yes                             \n",
       "4                                                 No                             \n",
       "\n",
       "  Have_you_ever_pitched_any_idea          Additional_skills  \\\n",
       "0                            Yes        Cultural Activities   \n",
       "1                             No        Cultural Activities   \n",
       "2                             No  Photography;Video Editing   \n",
       "3                             No                       None   \n",
       "4                            Yes                       None   \n",
       "\n",
       "                                       Achievements  \n",
       "0  Scholarships;Hackathons;Research Papers;Projects  \n",
       "1                                              None  \n",
       "2                                              None  \n",
       "3                                              None  \n",
       "4           Hackathons;Coding Competitions;Projects  \n",
       "\n",
       "[5 rows x 24 columns]"
      ]
     },
     "execution_count": 2,
     "metadata": {},
     "output_type": "execute_result"
    }
   ],
   "source": [
    "df = pd.read_csv(\"D:\\\\III YEAR ASSIGNMENTS\\\\Kaggle Datasets\\\\Studentdata (1).csv\")\n",
    "df.head()"
   ]
  },
  {
   "cell_type": "code",
   "execution_count": 3,
   "id": "5845b76b",
   "metadata": {},
   "outputs": [
    {
     "data": {
      "text/plain": [
       "Index(['Gender', 'Year_of_Study', 'Branch',\n",
       "       'Type_of_Schooling_till_10th_Grade', 'Percentage_in_Class_10th',\n",
       "       'Location_of_Class_10th_School', ' Type_of_Schooling_for_class_12th',\n",
       "       'Percentage_in_Class_12th', 'Location_of_Class_12th_School',\n",
       "       'Dropped_an_year_after_School', 'First_generation_graduate ',\n",
       "       'Volunteer_groups(NCC,NSS, Social Welfare Groups  or any other)',\n",
       "       'Programming_languages_do_you_know',\n",
       "       'Actively_involved_in_Specific_technology', 'Exposure_to_DSA',\n",
       "       'Exposure_to_GitHub ', 'Associated_with_any_developer_Community',\n",
       "       'Active_in_developer_Communities',\n",
       "       'Participating_in_Hackathons_and_other_competitions',\n",
       "       'Made_any_Software_based_projects',\n",
       "       'Made_any_Hardware_based_project (Arduino, Raspberry Pi, Robots or any other)',\n",
       "       'Have_you_ever_pitched_any_idea', 'Additional_skills', 'Achievements'],\n",
       "      dtype='object')"
      ]
     },
     "execution_count": 3,
     "metadata": {},
     "output_type": "execute_result"
    }
   ],
   "source": [
    "df.columns"
   ]
  },
  {
   "cell_type": "code",
   "execution_count": 4,
   "id": "8c8d5ecf",
   "metadata": {},
   "outputs": [
    {
     "data": {
      "text/plain": [
       "(256, 24)"
      ]
     },
     "execution_count": 4,
     "metadata": {},
     "output_type": "execute_result"
    }
   ],
   "source": [
    "df.shape"
   ]
  },
  {
   "cell_type": "code",
   "execution_count": 5,
   "id": "7199d4ad",
   "metadata": {},
   "outputs": [
    {
     "data": {
      "text/plain": [
       "Gender                                                                          0\n",
       "Year_of_Study                                                                   0\n",
       "Branch                                                                          0\n",
       "Type_of_Schooling_till_10th_Grade                                               0\n",
       "Percentage_in_Class_10th                                                        0\n",
       "Location_of_Class_10th_School                                                   0\n",
       " Type_of_Schooling_for_class_12th                                               0\n",
       "Percentage_in_Class_12th                                                        0\n",
       "Location_of_Class_12th_School                                                   0\n",
       "Dropped_an_year_after_School                                                    0\n",
       "First_generation_graduate                                                       0\n",
       "Volunteer_groups(NCC,NSS, Social Welfare Groups  or any other)                  0\n",
       "Programming_languages_do_you_know                                               0\n",
       "Actively_involved_in_Specific_technology                                        0\n",
       "Exposure_to_DSA                                                                 0\n",
       "Exposure_to_GitHub                                                              0\n",
       "Associated_with_any_developer_Community                                         0\n",
       "Active_in_developer_Communities                                                 0\n",
       "Participating_in_Hackathons_and_other_competitions                              0\n",
       "Made_any_Software_based_projects                                                0\n",
       "Made_any_Hardware_based_project (Arduino, Raspberry Pi, Robots or any other)    0\n",
       "Have_you_ever_pitched_any_idea                                                  0\n",
       "Additional_skills                                                               0\n",
       "Achievements                                                                    0\n",
       "dtype: int64"
      ]
     },
     "execution_count": 5,
     "metadata": {},
     "output_type": "execute_result"
    }
   ],
   "source": [
    "df.isnull().sum()"
   ]
  },
  {
   "cell_type": "code",
   "execution_count": 6,
   "id": "67527fc8",
   "metadata": {},
   "outputs": [
    {
     "name": "stdout",
     "output_type": "stream",
     "text": [
      "<class 'pandas.core.frame.DataFrame'>\n",
      "RangeIndex: 256 entries, 0 to 255\n",
      "Data columns (total 24 columns):\n",
      " #   Column                                                                        Non-Null Count  Dtype \n",
      "---  ------                                                                        --------------  ----- \n",
      " 0   Gender                                                                        256 non-null    object\n",
      " 1   Year_of_Study                                                                 256 non-null    object\n",
      " 2   Branch                                                                        256 non-null    object\n",
      " 3   Type_of_Schooling_till_10th_Grade                                             256 non-null    object\n",
      " 4   Percentage_in_Class_10th                                                      256 non-null    object\n",
      " 5   Location_of_Class_10th_School                                                 256 non-null    object\n",
      " 6    Type_of_Schooling_for_class_12th                                             256 non-null    object\n",
      " 7   Percentage_in_Class_12th                                                      256 non-null    object\n",
      " 8   Location_of_Class_12th_School                                                 256 non-null    object\n",
      " 9   Dropped_an_year_after_School                                                  256 non-null    object\n",
      " 10  First_generation_graduate                                                     256 non-null    object\n",
      " 11  Volunteer_groups(NCC,NSS, Social Welfare Groups  or any other)                256 non-null    object\n",
      " 12  Programming_languages_do_you_know                                             256 non-null    object\n",
      " 13  Actively_involved_in_Specific_technology                                      256 non-null    object\n",
      " 14  Exposure_to_DSA                                                               256 non-null    object\n",
      " 15  Exposure_to_GitHub                                                            256 non-null    object\n",
      " 16  Associated_with_any_developer_Community                                       256 non-null    object\n",
      " 17  Active_in_developer_Communities                                               256 non-null    object\n",
      " 18  Participating_in_Hackathons_and_other_competitions                            256 non-null    object\n",
      " 19  Made_any_Software_based_projects                                              256 non-null    object\n",
      " 20  Made_any_Hardware_based_project (Arduino, Raspberry Pi, Robots or any other)  256 non-null    object\n",
      " 21  Have_you_ever_pitched_any_idea                                                256 non-null    object\n",
      " 22  Additional_skills                                                             256 non-null    object\n",
      " 23  Achievements                                                                  256 non-null    object\n",
      "dtypes: object(24)\n",
      "memory usage: 48.1+ KB\n"
     ]
    }
   ],
   "source": [
    "df.info()"
   ]
  },
  {
   "cell_type": "code",
   "execution_count": 7,
   "id": "73355057",
   "metadata": {},
   "outputs": [
    {
     "data": {
      "text/html": [
       "<div>\n",
       "<style scoped>\n",
       "    .dataframe tbody tr th:only-of-type {\n",
       "        vertical-align: middle;\n",
       "    }\n",
       "\n",
       "    .dataframe tbody tr th {\n",
       "        vertical-align: top;\n",
       "    }\n",
       "\n",
       "    .dataframe thead th {\n",
       "        text-align: right;\n",
       "    }\n",
       "</style>\n",
       "<table border=\"1\" class=\"dataframe\">\n",
       "  <thead>\n",
       "    <tr style=\"text-align: right;\">\n",
       "      <th></th>\n",
       "      <th>Gender</th>\n",
       "      <th>Year_of_Study</th>\n",
       "      <th>Branch</th>\n",
       "      <th>Type_of_Schooling_till_10th_Grade</th>\n",
       "      <th>Percentage_in_Class_10th</th>\n",
       "      <th>Location_of_Class_10th_School</th>\n",
       "      <th>Type_of_Schooling_for_class_12th</th>\n",
       "      <th>Percentage_in_Class_12th</th>\n",
       "      <th>Location_of_Class_12th_School</th>\n",
       "      <th>Dropped_an_year_after_School</th>\n",
       "      <th>...</th>\n",
       "      <th>Exposure_to_DSA</th>\n",
       "      <th>Exposure_to_GitHub</th>\n",
       "      <th>Associated_with_any_developer_Community</th>\n",
       "      <th>Active_in_developer_Communities</th>\n",
       "      <th>Participating_in_Hackathons_and_other_competitions</th>\n",
       "      <th>Made_any_Software_based_projects</th>\n",
       "      <th>Made_any_Hardware_based_project (Arduino, Raspberry Pi, Robots or any other)</th>\n",
       "      <th>Have_you_ever_pitched_any_idea</th>\n",
       "      <th>Additional_skills</th>\n",
       "      <th>Achievements</th>\n",
       "    </tr>\n",
       "  </thead>\n",
       "  <tbody>\n",
       "    <tr>\n",
       "      <th>count</th>\n",
       "      <td>256</td>\n",
       "      <td>256</td>\n",
       "      <td>256</td>\n",
       "      <td>256</td>\n",
       "      <td>256</td>\n",
       "      <td>256</td>\n",
       "      <td>256</td>\n",
       "      <td>256</td>\n",
       "      <td>256</td>\n",
       "      <td>256</td>\n",
       "      <td>...</td>\n",
       "      <td>256</td>\n",
       "      <td>256</td>\n",
       "      <td>256</td>\n",
       "      <td>256</td>\n",
       "      <td>256</td>\n",
       "      <td>256</td>\n",
       "      <td>256</td>\n",
       "      <td>256</td>\n",
       "      <td>256</td>\n",
       "      <td>256</td>\n",
       "    </tr>\n",
       "    <tr>\n",
       "      <th>unique</th>\n",
       "      <td>2</td>\n",
       "      <td>3</td>\n",
       "      <td>8</td>\n",
       "      <td>3</td>\n",
       "      <td>5</td>\n",
       "      <td>3</td>\n",
       "      <td>4</td>\n",
       "      <td>5</td>\n",
       "      <td>3</td>\n",
       "      <td>2</td>\n",
       "      <td>...</td>\n",
       "      <td>3</td>\n",
       "      <td>3</td>\n",
       "      <td>2</td>\n",
       "      <td>4</td>\n",
       "      <td>3</td>\n",
       "      <td>2</td>\n",
       "      <td>2</td>\n",
       "      <td>2</td>\n",
       "      <td>17</td>\n",
       "      <td>26</td>\n",
       "    </tr>\n",
       "    <tr>\n",
       "      <th>top</th>\n",
       "      <td>Male</td>\n",
       "      <td>Second</td>\n",
       "      <td>CSE/IT</td>\n",
       "      <td>Normal Schooling</td>\n",
       "      <td>&gt;= 90%</td>\n",
       "      <td>City</td>\n",
       "      <td>Normal Schooling</td>\n",
       "      <td>&gt;=90%</td>\n",
       "      <td>City</td>\n",
       "      <td>No</td>\n",
       "      <td>...</td>\n",
       "      <td>Medium</td>\n",
       "      <td>Easy</td>\n",
       "      <td>No</td>\n",
       "      <td>Inactive Member</td>\n",
       "      <td>Not yet participated</td>\n",
       "      <td>No</td>\n",
       "      <td>No</td>\n",
       "      <td>Yes</td>\n",
       "      <td>Sports</td>\n",
       "      <td>None</td>\n",
       "    </tr>\n",
       "    <tr>\n",
       "      <th>freq</th>\n",
       "      <td>191</td>\n",
       "      <td>198</td>\n",
       "      <td>168</td>\n",
       "      <td>168</td>\n",
       "      <td>116</td>\n",
       "      <td>180</td>\n",
       "      <td>127</td>\n",
       "      <td>95</td>\n",
       "      <td>187</td>\n",
       "      <td>136</td>\n",
       "      <td>...</td>\n",
       "      <td>135</td>\n",
       "      <td>145</td>\n",
       "      <td>159</td>\n",
       "      <td>101</td>\n",
       "      <td>142</td>\n",
       "      <td>144</td>\n",
       "      <td>202</td>\n",
       "      <td>142</td>\n",
       "      <td>64</td>\n",
       "      <td>109</td>\n",
       "    </tr>\n",
       "  </tbody>\n",
       "</table>\n",
       "<p>4 rows × 24 columns</p>\n",
       "</div>"
      ],
      "text/plain": [
       "       Gender Year_of_Study  Branch Type_of_Schooling_till_10th_Grade  \\\n",
       "count     256           256     256                               256   \n",
       "unique      2             3       8                                 3   \n",
       "top      Male        Second  CSE/IT                  Normal Schooling   \n",
       "freq      191           198     168                               168   \n",
       "\n",
       "       Percentage_in_Class_10th Location_of_Class_10th_School  \\\n",
       "count                       256                           256   \n",
       "unique                        5                             3   \n",
       "top                      >= 90%                          City   \n",
       "freq                        116                           180   \n",
       "\n",
       "        Type_of_Schooling_for_class_12th Percentage_in_Class_12th  \\\n",
       "count                                256                      256   \n",
       "unique                                 4                        5   \n",
       "top                     Normal Schooling                    >=90%   \n",
       "freq                                 127                       95   \n",
       "\n",
       "       Location_of_Class_12th_School Dropped_an_year_after_School  ...  \\\n",
       "count                            256                          256  ...   \n",
       "unique                             3                            2  ...   \n",
       "top                             City                           No  ...   \n",
       "freq                             187                          136  ...   \n",
       "\n",
       "       Exposure_to_DSA Exposure_to_GitHub   \\\n",
       "count              256                 256   \n",
       "unique               3                   3   \n",
       "top             Medium                Easy   \n",
       "freq               135                 145   \n",
       "\n",
       "       Associated_with_any_developer_Community  \\\n",
       "count                                      256   \n",
       "unique                                       2   \n",
       "top                                         No   \n",
       "freq                                       159   \n",
       "\n",
       "       Active_in_developer_Communities  \\\n",
       "count                              256   \n",
       "unique                               4   \n",
       "top                    Inactive Member   \n",
       "freq                               101   \n",
       "\n",
       "       Participating_in_Hackathons_and_other_competitions  \\\n",
       "count                                                 256   \n",
       "unique                                                  3   \n",
       "top                                  Not yet participated   \n",
       "freq                                                  142   \n",
       "\n",
       "       Made_any_Software_based_projects  \\\n",
       "count                               256   \n",
       "unique                                2   \n",
       "top                                  No   \n",
       "freq                                144   \n",
       "\n",
       "       Made_any_Hardware_based_project (Arduino, Raspberry Pi, Robots or any other)  \\\n",
       "count                                                 256                             \n",
       "unique                                                  2                             \n",
       "top                                                    No                             \n",
       "freq                                                  202                             \n",
       "\n",
       "       Have_you_ever_pitched_any_idea Additional_skills Achievements  \n",
       "count                             256               256          256  \n",
       "unique                              2                17           26  \n",
       "top                               Yes            Sports         None  \n",
       "freq                              142                64          109  \n",
       "\n",
       "[4 rows x 24 columns]"
      ]
     },
     "execution_count": 7,
     "metadata": {},
     "output_type": "execute_result"
    }
   ],
   "source": [
    "df.describe()"
   ]
  },
  {
   "cell_type": "code",
   "execution_count": 8,
   "id": "a1ea94d8",
   "metadata": {},
   "outputs": [
    {
     "data": {
      "text/plain": [
       "array(['>=80% and <90%', '>= 90%', '>=70% and <80%', '<60%',\n",
       "       '>=60% and <70%'], dtype=object)"
      ]
     },
     "execution_count": 8,
     "metadata": {},
     "output_type": "execute_result"
    }
   ],
   "source": [
    "df.Percentage_in_Class_10th.unique()"
   ]
  },
  {
   "cell_type": "code",
   "execution_count": 9,
   "id": "51bac6a5",
   "metadata": {},
   "outputs": [
    {
     "data": {
      "text/plain": [
       "array(['>=80% and <90%', '>=90%', '>=60% and <70%', '>=70% and <80%',\n",
       "       '<60%'], dtype=object)"
      ]
     },
     "execution_count": 9,
     "metadata": {},
     "output_type": "execute_result"
    }
   ],
   "source": [
    "df.Percentage_in_Class_12th.unique()"
   ]
  },
  {
   "cell_type": "markdown",
   "id": "03fa6759",
   "metadata": {},
   "source": [
    "# Feature Engineering"
   ]
  },
  {
   "cell_type": "code",
   "execution_count": 10,
   "id": "0d1776bf",
   "metadata": {},
   "outputs": [],
   "source": [
    "df.loc[df['Percentage_in_Class_10th'] == '>= 90%', 'Percentage_in_Class_10th'] = 1"
   ]
  },
  {
   "cell_type": "code",
   "execution_count": 11,
   "id": "a4f62644",
   "metadata": {},
   "outputs": [],
   "source": [
    "df.loc[df['Percentage_in_Class_10th'] == '>=80% and <90%', 'Percentage_in_Class_10th'] = 2"
   ]
  },
  {
   "cell_type": "code",
   "execution_count": 12,
   "id": "6cc0b338",
   "metadata": {},
   "outputs": [],
   "source": [
    "df.loc[df['Percentage_in_Class_10th'] == '>=70% and <80%', 'Percentage_in_Class_10th'] = 3"
   ]
  },
  {
   "cell_type": "code",
   "execution_count": 13,
   "id": "d780f19c",
   "metadata": {},
   "outputs": [],
   "source": [
    "df.loc[df['Percentage_in_Class_10th'] == '>=60% and <70%', 'Percentage_in_Class_10th'] = 4"
   ]
  },
  {
   "cell_type": "code",
   "execution_count": 14,
   "id": "f887bf0e",
   "metadata": {},
   "outputs": [],
   "source": [
    "df.loc[df['Percentage_in_Class_10th'] == '<60%', 'Percentage_in_Class_10th'] = 5"
   ]
  },
  {
   "cell_type": "code",
   "execution_count": 15,
   "id": "8bf1c127",
   "metadata": {},
   "outputs": [],
   "source": [
    "df.loc[df['Percentage_in_Class_12th'] == '>=90%', 'Percentage_in_Class_12th'] = 1"
   ]
  },
  {
   "cell_type": "code",
   "execution_count": 16,
   "id": "0726741a",
   "metadata": {},
   "outputs": [],
   "source": [
    "df.loc[df['Percentage_in_Class_12th'] == '>=80% and <90%', 'Percentage_in_Class_12th'] = 2"
   ]
  },
  {
   "cell_type": "code",
   "execution_count": 17,
   "id": "c76d7a00",
   "metadata": {},
   "outputs": [],
   "source": [
    "df.loc[df['Percentage_in_Class_12th'] == '>=70% and <80%', 'Percentage_in_Class_12th'] = 3"
   ]
  },
  {
   "cell_type": "code",
   "execution_count": 18,
   "id": "9963cc42",
   "metadata": {},
   "outputs": [],
   "source": [
    "df.loc[df['Percentage_in_Class_12th'] == '>=60% and <70%', 'Percentage_in_Class_12th'] = 4"
   ]
  },
  {
   "cell_type": "code",
   "execution_count": 19,
   "id": "2a6526bb",
   "metadata": {},
   "outputs": [],
   "source": [
    "df.loc[df['Percentage_in_Class_12th'] == '<60%', 'Percentage_in_Class_12th'] = 5"
   ]
  },
  {
   "cell_type": "markdown",
   "id": "859dce00",
   "metadata": {},
   "source": [
    "# Observation:\n",
    "    90+ --> 1\n",
    "    80 - 90 --> 2\n",
    "    70 - 80 --> 3\n",
    "    60 - 70 --> 4\n",
    "    below 60 --> 5"
   ]
  },
  {
   "cell_type": "markdown",
   "id": "1ddcb4a4",
   "metadata": {},
   "source": [
    "# Class 10 results on different factors"
   ]
  },
  {
   "cell_type": "code",
   "execution_count": 20,
   "id": "9c3977c8",
   "metadata": {},
   "outputs": [
    {
     "data": {
      "text/plain": [
       "Gender\n",
       "Female     65\n",
       "Male      191\n",
       "Name: Gender, dtype: int64"
      ]
     },
     "execution_count": 20,
     "metadata": {},
     "output_type": "execute_result"
    }
   ],
   "source": [
    "## how many males and females are enrolled in class 10\n",
    "df.groupby('Gender')['Gender'].count()"
   ]
  },
  {
   "cell_type": "code",
   "execution_count": 21,
   "id": "c6380ca4",
   "metadata": {},
   "outputs": [
    {
     "data": {
      "text/html": [
       "<div>\n",
       "<style scoped>\n",
       "    .dataframe tbody tr th:only-of-type {\n",
       "        vertical-align: middle;\n",
       "    }\n",
       "\n",
       "    .dataframe tbody tr th {\n",
       "        vertical-align: top;\n",
       "    }\n",
       "\n",
       "    .dataframe thead th {\n",
       "        text-align: right;\n",
       "    }\n",
       "</style>\n",
       "<table border=\"1\" class=\"dataframe\">\n",
       "  <thead>\n",
       "    <tr style=\"text-align: right;\">\n",
       "      <th></th>\n",
       "      <th>Gender</th>\n",
       "      <th>Location_of_Class_10th_School</th>\n",
       "      <th>Count</th>\n",
       "    </tr>\n",
       "  </thead>\n",
       "  <tbody>\n",
       "    <tr>\n",
       "      <th>0</th>\n",
       "      <td>Female</td>\n",
       "      <td>City</td>\n",
       "      <td>44</td>\n",
       "    </tr>\n",
       "    <tr>\n",
       "      <th>1</th>\n",
       "      <td>Female</td>\n",
       "      <td>Town</td>\n",
       "      <td>18</td>\n",
       "    </tr>\n",
       "    <tr>\n",
       "      <th>2</th>\n",
       "      <td>Female</td>\n",
       "      <td>Village</td>\n",
       "      <td>3</td>\n",
       "    </tr>\n",
       "    <tr>\n",
       "      <th>3</th>\n",
       "      <td>Male</td>\n",
       "      <td>City</td>\n",
       "      <td>136</td>\n",
       "    </tr>\n",
       "    <tr>\n",
       "      <th>4</th>\n",
       "      <td>Male</td>\n",
       "      <td>Town</td>\n",
       "      <td>42</td>\n",
       "    </tr>\n",
       "    <tr>\n",
       "      <th>5</th>\n",
       "      <td>Male</td>\n",
       "      <td>Village</td>\n",
       "      <td>13</td>\n",
       "    </tr>\n",
       "  </tbody>\n",
       "</table>\n",
       "</div>"
      ],
      "text/plain": [
       "   Gender Location_of_Class_10th_School  Count\n",
       "0  Female                          City     44\n",
       "1  Female                          Town     18\n",
       "2  Female                       Village      3\n",
       "3    Male                          City    136\n",
       "4    Male                          Town     42\n",
       "5    Male                       Village     13"
      ]
     },
     "execution_count": 21,
     "metadata": {},
     "output_type": "execute_result"
    }
   ],
   "source": [
    "## number of students from different locations\n",
    "students_location = df[['Gender', 'Location_of_Class_10th_School']].groupby(['Gender', 'Location_of_Class_10th_School']).size().reset_index().rename(columns = {0:'Count'})\n",
    "students_location"
   ]
  },
  {
   "cell_type": "code",
   "execution_count": 22,
   "id": "2d223538",
   "metadata": {},
   "outputs": [
    {
     "data": {
      "text/plain": [
       "<AxesSubplot:xlabel='Location_of_Class_10th_School', ylabel='Count'>"
      ]
     },
     "execution_count": 22,
     "metadata": {},
     "output_type": "execute_result"
    },
    {
     "data": {
      "image/png": "[encoded data removed]",
      "text/plain": [
       "<Figure size 864x432 with 1 Axes>"
      ]
     },
     "metadata": {
      "needs_background": "light"
     },
     "output_type": "display_data"
    }
   ],
   "source": [
    "matplotlib.rcParams['figure.figsize'] = (12,6)\n",
    "sns.barplot(x = 'Location_of_Class_10th_School', y = 'Count', hue = 'Gender', data = students_location)"
   ]
  },
  {
   "cell_type": "markdown",
   "id": "37592fb9",
   "metadata": {},
   "source": [
    "# Observation: \n",
    "    there are 65 females and 191 males enrolled in class 10\n",
    "    Most number of students come from city > town > village"
   ]
  },
  {
   "cell_type": "code",
   "execution_count": 23,
   "id": "ac499867",
   "metadata": {},
   "outputs": [],
   "source": [
    "Class_10 = df[['Gender', 'Type_of_Schooling_till_10th_Grade', 'Percentage_in_Class_10th']].groupby(['Gender', 'Type_of_Schooling_till_10th_Grade', 'Percentage_in_Class_10th']).size().reset_index().rename(columns = {0:'Count'})"
   ]
  },
  {
   "cell_type": "code",
   "execution_count": 24,
   "id": "0cbe18e9",
   "metadata": {},
   "outputs": [
    {
     "data": {
      "text/html": [
       "<div>\n",
       "<style scoped>\n",
       "    .dataframe tbody tr th:only-of-type {\n",
       "        vertical-align: middle;\n",
       "    }\n",
       "\n",
       "    .dataframe tbody tr th {\n",
       "        vertical-align: top;\n",
       "    }\n",
       "\n",
       "    .dataframe thead th {\n",
       "        text-align: right;\n",
       "    }\n",
       "</style>\n",
       "<table border=\"1\" class=\"dataframe\">\n",
       "  <thead>\n",
       "    <tr style=\"text-align: right;\">\n",
       "      <th></th>\n",
       "      <th>Gender</th>\n",
       "      <th>Type_of_Schooling_till_10th_Grade</th>\n",
       "      <th>Percentage_in_Class_10th</th>\n",
       "      <th>Count</th>\n",
       "    </tr>\n",
       "  </thead>\n",
       "  <tbody>\n",
       "    <tr>\n",
       "      <th>0</th>\n",
       "      <td>Female</td>\n",
       "      <td>Normal Schooling</td>\n",
       "      <td>1</td>\n",
       "      <td>21</td>\n",
       "    </tr>\n",
       "    <tr>\n",
       "      <th>1</th>\n",
       "      <td>Female</td>\n",
       "      <td>Normal Schooling</td>\n",
       "      <td>2</td>\n",
       "      <td>14</td>\n",
       "    </tr>\n",
       "    <tr>\n",
       "      <th>2</th>\n",
       "      <td>Female</td>\n",
       "      <td>Normal Schooling</td>\n",
       "      <td>3</td>\n",
       "      <td>2</td>\n",
       "    </tr>\n",
       "    <tr>\n",
       "      <th>3</th>\n",
       "      <td>Female</td>\n",
       "      <td>Normal Schooling</td>\n",
       "      <td>4</td>\n",
       "      <td>1</td>\n",
       "    </tr>\n",
       "    <tr>\n",
       "      <th>4</th>\n",
       "      <td>Female</td>\n",
       "      <td>Schooling with Tuitions</td>\n",
       "      <td>1</td>\n",
       "      <td>13</td>\n",
       "    </tr>\n",
       "    <tr>\n",
       "      <th>5</th>\n",
       "      <td>Female</td>\n",
       "      <td>Schooling with Tuitions</td>\n",
       "      <td>2</td>\n",
       "      <td>11</td>\n",
       "    </tr>\n",
       "    <tr>\n",
       "      <th>6</th>\n",
       "      <td>Female</td>\n",
       "      <td>Schooling with Tuitions</td>\n",
       "      <td>3</td>\n",
       "      <td>3</td>\n",
       "    </tr>\n",
       "    <tr>\n",
       "      <th>7</th>\n",
       "      <td>Male</td>\n",
       "      <td>Coaching Based Schools</td>\n",
       "      <td>1</td>\n",
       "      <td>3</td>\n",
       "    </tr>\n",
       "    <tr>\n",
       "      <th>8</th>\n",
       "      <td>Male</td>\n",
       "      <td>Coaching Based Schools</td>\n",
       "      <td>3</td>\n",
       "      <td>1</td>\n",
       "    </tr>\n",
       "    <tr>\n",
       "      <th>9</th>\n",
       "      <td>Male</td>\n",
       "      <td>Normal Schooling</td>\n",
       "      <td>1</td>\n",
       "      <td>55</td>\n",
       "    </tr>\n",
       "    <tr>\n",
       "      <th>10</th>\n",
       "      <td>Male</td>\n",
       "      <td>Normal Schooling</td>\n",
       "      <td>2</td>\n",
       "      <td>50</td>\n",
       "    </tr>\n",
       "    <tr>\n",
       "      <th>11</th>\n",
       "      <td>Male</td>\n",
       "      <td>Normal Schooling</td>\n",
       "      <td>3</td>\n",
       "      <td>18</td>\n",
       "    </tr>\n",
       "    <tr>\n",
       "      <th>12</th>\n",
       "      <td>Male</td>\n",
       "      <td>Normal Schooling</td>\n",
       "      <td>4</td>\n",
       "      <td>5</td>\n",
       "    </tr>\n",
       "    <tr>\n",
       "      <th>13</th>\n",
       "      <td>Male</td>\n",
       "      <td>Normal Schooling</td>\n",
       "      <td>5</td>\n",
       "      <td>2</td>\n",
       "    </tr>\n",
       "    <tr>\n",
       "      <th>14</th>\n",
       "      <td>Male</td>\n",
       "      <td>Schooling with Tuitions</td>\n",
       "      <td>1</td>\n",
       "      <td>24</td>\n",
       "    </tr>\n",
       "    <tr>\n",
       "      <th>15</th>\n",
       "      <td>Male</td>\n",
       "      <td>Schooling with Tuitions</td>\n",
       "      <td>2</td>\n",
       "      <td>26</td>\n",
       "    </tr>\n",
       "    <tr>\n",
       "      <th>16</th>\n",
       "      <td>Male</td>\n",
       "      <td>Schooling with Tuitions</td>\n",
       "      <td>3</td>\n",
       "      <td>4</td>\n",
       "    </tr>\n",
       "    <tr>\n",
       "      <th>17</th>\n",
       "      <td>Male</td>\n",
       "      <td>Schooling with Tuitions</td>\n",
       "      <td>4</td>\n",
       "      <td>3</td>\n",
       "    </tr>\n",
       "  </tbody>\n",
       "</table>\n",
       "</div>"
      ],
      "text/plain": [
       "    Gender Type_of_Schooling_till_10th_Grade  Percentage_in_Class_10th  Count\n",
       "0   Female                  Normal Schooling                         1     21\n",
       "1   Female                  Normal Schooling                         2     14\n",
       "2   Female                  Normal Schooling                         3      2\n",
       "3   Female                  Normal Schooling                         4      1\n",
       "4   Female           Schooling with Tuitions                         1     13\n",
       "5   Female           Schooling with Tuitions                         2     11\n",
       "6   Female           Schooling with Tuitions                         3      3\n",
       "7     Male            Coaching Based Schools                         1      3\n",
       "8     Male            Coaching Based Schools                         3      1\n",
       "9     Male                  Normal Schooling                         1     55\n",
       "10    Male                  Normal Schooling                         2     50\n",
       "11    Male                  Normal Schooling                         3     18\n",
       "12    Male                  Normal Schooling                         4      5\n",
       "13    Male                  Normal Schooling                         5      2\n",
       "14    Male           Schooling with Tuitions                         1     24\n",
       "15    Male           Schooling with Tuitions                         2     26\n",
       "16    Male           Schooling with Tuitions                         3      4\n",
       "17    Male           Schooling with Tuitions                         4      3"
      ]
     },
     "execution_count": 24,
     "metadata": {},
     "output_type": "execute_result"
    }
   ],
   "source": [
    "Class_10"
   ]
  },
  {
   "cell_type": "code",
   "execution_count": 25,
   "id": "f76b05e6",
   "metadata": {},
   "outputs": [
    {
     "data": {
      "text/plain": [
       "<AxesSubplot:xlabel='Type_of_Schooling_till_10th_Grade', ylabel='Percentage_in_Class_10th'>"
      ]
     },
     "execution_count": 25,
     "metadata": {},
     "output_type": "execute_result"
    },
    {
     "data": {
      "image/png": "[encoded data removed]",
      "text/plain": [
       "<Figure size 864x432 with 1 Axes>"
      ]
     },
     "metadata": {
      "needs_background": "light"
     },
     "output_type": "display_data"
    }
   ],
   "source": [
    "matplotlib.rcParams['figure.figsize'] = (12,6)\n",
    "sns.barplot(x = 'Type_of_Schooling_till_10th_Grade', y = 'Percentage_in_Class_10th', hue = 'Gender', data = Class_10)"
   ]
  },
  {
   "cell_type": "markdown",
   "id": "4511242e",
   "metadata": {},
   "source": [
    "# Observation:\n",
    "    1. Normal schooling has more number of students and the results are better than other two\n",
    "    2. Schooling with tutions has also good results but not better than normal schooling\n",
    "    3. Coaching based schools have poorest results and no female is enrolled in that type of schooling"
   ]
  },
  {
   "cell_type": "markdown",
   "id": "c083f84d",
   "metadata": {},
   "source": [
    "# Hypothesis"
   ]
  },
  {
   "cell_type": "markdown",
   "id": "ea34727b",
   "metadata": {},
   "source": [
    "Now I will check percantage of class 10 and 12 with first generation graduate \n",
    "    \n",
    "    1.if a student performed well in class 10 and 12 and he/she is first generation graduate then it is more likely that they want tocome out of their present situation as they are not well off\n",
    "    \n",
    "    2.on the other hand if a student performed OK in class 10 and 12 and he/she is not first generation graduate then it is more likely that they are well off and they have other options to pursue in their life"
   ]
  },
  {
   "cell_type": "code",
   "execution_count": 26,
   "id": "6400c144",
   "metadata": {},
   "outputs": [],
   "source": [
    "first_grad = df[['First_generation_graduate ', 'Percentage_in_Class_10th', 'Percentage_in_Class_12th']].groupby(['First_generation_graduate ', 'Percentage_in_Class_10th', 'Percentage_in_Class_12th']).size().reset_index().rename(columns = {0:'Count'})\n",
    "#df.groupby(['First_generation_graduate ', 'Percentage_in_Class_10th'])['Gender'].count()"
   ]
  },
  {
   "cell_type": "code",
   "execution_count": 27,
   "id": "7a338c6f",
   "metadata": {},
   "outputs": [
    {
     "data": {
      "text/plain": [
       "<AxesSubplot:xlabel='Percentage_in_Class_10th', ylabel='Count'>"
      ]
     },
     "execution_count": 27,
     "metadata": {},
     "output_type": "execute_result"
    },
    {
     "data": {
      "image/png": "[encoded data removed]",
      "text/plain": [
       "<Figure size 864x432 with 1 Axes>"
      ]
     },
     "metadata": {
      "needs_background": "light"
     },
     "output_type": "display_data"
    }
   ],
   "source": [
    "sns.barplot(x = 'Percentage_in_Class_10th', y = 'Count', hue = 'First_generation_graduate ' ,data = first_grad)"
   ]
  },
  {
   "cell_type": "markdown",
   "id": "14991805",
   "metadata": {},
   "source": [
    "# Observation:\n",
    "    Students that are not first generation graduate are higher in number than their counterpart\n",
    "    One reason could be that they might have better facilities and good environment to study"
   ]
  },
  {
   "cell_type": "code",
   "execution_count": 28,
   "id": "331aa0f2",
   "metadata": {},
   "outputs": [
    {
     "data": {
      "text/plain": [
       "<AxesSubplot:xlabel='Percentage_in_Class_12th', ylabel='Count'>"
      ]
     },
     "execution_count": 28,
     "metadata": {},
     "output_type": "execute_result"
    },
    {
     "data": {
      "image/png": "[encoded data removed]",
      "text/plain": [
       "<Figure size 864x432 with 1 Axes>"
      ]
     },
     "metadata": {
      "needs_background": "light"
     },
     "output_type": "display_data"
    }
   ],
   "source": [
    "sns.barplot(x = 'Percentage_in_Class_12th' , y = 'Count', hue = 'First_generation_graduate ' ,data = first_grad)"
   ]
  },
  {
   "cell_type": "markdown",
   "id": "7dff52bc",
   "metadata": {},
   "source": [
    "# Observation:\n",
    "    Number of students scoring 90+ in class 12th are almost same for first generation grad and their counterpart\n",
    "    if given enough opprtunities and attention they can improve their results and get better like non first generation grad"
   ]
  },
  {
   "cell_type": "code",
   "execution_count": 29,
   "id": "912f66e6",
   "metadata": {},
   "outputs": [
    {
     "data": {
      "text/plain": [
       "First_generation_graduate \n",
       "No     163\n",
       "Yes     93\n",
       "Name: Gender, dtype: int64"
      ]
     },
     "execution_count": 29,
     "metadata": {},
     "output_type": "execute_result"
    }
   ],
   "source": [
    "df.groupby(['First_generation_graduate '])['Gender'].count()"
   ]
  },
  {
   "cell_type": "code",
   "execution_count": 30,
   "id": "278d07ef",
   "metadata": {},
   "outputs": [
    {
     "data": {
      "text/plain": [
       "0.6559139784946236"
      ]
     },
     "execution_count": 30,
     "metadata": {},
     "output_type": "execute_result"
    }
   ],
   "source": [
    "61/93"
   ]
  },
  {
   "cell_type": "code",
   "execution_count": 31,
   "id": "60d29a7c",
   "metadata": {},
   "outputs": [
    {
     "data": {
      "text/plain": [
       "0.7914110429447853"
      ]
     },
     "execution_count": 31,
     "metadata": {},
     "output_type": "execute_result"
    }
   ],
   "source": [
    "129/163"
   ]
  },
  {
   "cell_type": "markdown",
   "id": "92d3cc8e",
   "metadata": {},
   "source": [
    "Total of 65% first gen grad got 80% + in class 10 and 12\n",
    "\n",
    "total of 79% non first gen grad got 80% + in class 10 and 12"
   ]
  },
  {
   "cell_type": "code",
   "execution_count": 32,
   "id": "f7edec61",
   "metadata": {},
   "outputs": [],
   "source": [
    "college = df[['Gender', 'Year_of_Study', 'Branch', 'Programming_languages_do_you_know',\n",
    "       'Actively_involved_in_Specific_technology', 'Exposure_to_DSA',\n",
    "       'Exposure_to_GitHub ', 'Associated_with_any_developer_Community',\n",
    "       'Active_in_developer_Communities',\n",
    "       'Participating_in_Hackathons_and_other_competitions',\n",
    "       'Made_any_Software_based_projects',\n",
    "       'Made_any_Hardware_based_project (Arduino, Raspberry Pi, Robots or any other)',\n",
    "       'Have_you_ever_pitched_any_idea', 'Additional_skills', 'Achievements']]"
   ]
  },
  {
   "cell_type": "code",
   "execution_count": 33,
   "id": "7fab3b98",
   "metadata": {},
   "outputs": [
    {
     "data": {
      "text/html": [
       "<div>\n",
       "<style scoped>\n",
       "    .dataframe tbody tr th:only-of-type {\n",
       "        vertical-align: middle;\n",
       "    }\n",
       "\n",
       "    .dataframe tbody tr th {\n",
       "        vertical-align: top;\n",
       "    }\n",
       "\n",
       "    .dataframe thead th {\n",
       "        text-align: right;\n",
       "    }\n",
       "</style>\n",
       "<table border=\"1\" class=\"dataframe\">\n",
       "  <thead>\n",
       "    <tr style=\"text-align: right;\">\n",
       "      <th></th>\n",
       "      <th>Gender</th>\n",
       "      <th>Year_of_Study</th>\n",
       "      <th>Branch</th>\n",
       "      <th>Programming_languages_do_you_know</th>\n",
       "      <th>Actively_involved_in_Specific_technology</th>\n",
       "      <th>Exposure_to_DSA</th>\n",
       "      <th>Exposure_to_GitHub</th>\n",
       "      <th>Associated_with_any_developer_Community</th>\n",
       "      <th>Active_in_developer_Communities</th>\n",
       "      <th>Participating_in_Hackathons_and_other_competitions</th>\n",
       "      <th>Made_any_Software_based_projects</th>\n",
       "      <th>Made_any_Hardware_based_project (Arduino, Raspberry Pi, Robots or any other)</th>\n",
       "      <th>Have_you_ever_pitched_any_idea</th>\n",
       "      <th>Additional_skills</th>\n",
       "      <th>Achievements</th>\n",
       "    </tr>\n",
       "  </thead>\n",
       "  <tbody>\n",
       "    <tr>\n",
       "      <th>0</th>\n",
       "      <td>Male</td>\n",
       "      <td>Third</td>\n",
       "      <td>CSE/IT</td>\n",
       "      <td>More than 5</td>\n",
       "      <td>Development;Research;Designing</td>\n",
       "      <td>Hard</td>\n",
       "      <td>Medium</td>\n",
       "      <td>Yes</td>\n",
       "      <td>Active Member</td>\n",
       "      <td>Participated</td>\n",
       "      <td>Yes</td>\n",
       "      <td>No</td>\n",
       "      <td>Yes</td>\n",
       "      <td>Cultural Activities</td>\n",
       "      <td>Scholarships;Hackathons;Research Papers;Projects</td>\n",
       "    </tr>\n",
       "    <tr>\n",
       "      <th>1</th>\n",
       "      <td>Female</td>\n",
       "      <td>Second</td>\n",
       "      <td>CSE/IT</td>\n",
       "      <td>2 to 3</td>\n",
       "      <td>Development;Competitive Coding</td>\n",
       "      <td>Medium</td>\n",
       "      <td>Medium</td>\n",
       "      <td>No</td>\n",
       "      <td>Moderately Active</td>\n",
       "      <td>Not yet participated</td>\n",
       "      <td>Yes</td>\n",
       "      <td>No</td>\n",
       "      <td>No</td>\n",
       "      <td>Cultural Activities</td>\n",
       "      <td>None</td>\n",
       "    </tr>\n",
       "    <tr>\n",
       "      <th>2</th>\n",
       "      <td>Male</td>\n",
       "      <td>Second</td>\n",
       "      <td>CSE/IT</td>\n",
       "      <td>2 to 3</td>\n",
       "      <td>Development</td>\n",
       "      <td>Medium</td>\n",
       "      <td>Medium</td>\n",
       "      <td>No</td>\n",
       "      <td>Inactive Member</td>\n",
       "      <td>Not yet participated</td>\n",
       "      <td>Yes</td>\n",
       "      <td>No</td>\n",
       "      <td>No</td>\n",
       "      <td>Photography;Video Editing</td>\n",
       "      <td>None</td>\n",
       "    </tr>\n",
       "    <tr>\n",
       "      <th>3</th>\n",
       "      <td>Male</td>\n",
       "      <td>Second</td>\n",
       "      <td>CSE/IT</td>\n",
       "      <td>2 to 3</td>\n",
       "      <td>None</td>\n",
       "      <td>Medium</td>\n",
       "      <td>Easy</td>\n",
       "      <td>Yes</td>\n",
       "      <td>Moderately Active</td>\n",
       "      <td>Not yet participated</td>\n",
       "      <td>Yes</td>\n",
       "      <td>Yes</td>\n",
       "      <td>No</td>\n",
       "      <td>None</td>\n",
       "      <td>None</td>\n",
       "    </tr>\n",
       "    <tr>\n",
       "      <th>4</th>\n",
       "      <td>Male</td>\n",
       "      <td>Second</td>\n",
       "      <td>CSE/IT</td>\n",
       "      <td>More than 5</td>\n",
       "      <td>Development</td>\n",
       "      <td>Medium</td>\n",
       "      <td>Hard</td>\n",
       "      <td>Yes</td>\n",
       "      <td>Active Member</td>\n",
       "      <td>Participated</td>\n",
       "      <td>Yes</td>\n",
       "      <td>No</td>\n",
       "      <td>Yes</td>\n",
       "      <td>None</td>\n",
       "      <td>Hackathons;Coding Competitions;Projects</td>\n",
       "    </tr>\n",
       "  </tbody>\n",
       "</table>\n",
       "</div>"
      ],
      "text/plain": [
       "   Gender Year_of_Study  Branch Programming_languages_do_you_know  \\\n",
       "0    Male         Third  CSE/IT                       More than 5   \n",
       "1  Female        Second  CSE/IT                            2 to 3   \n",
       "2    Male        Second  CSE/IT                            2 to 3   \n",
       "3    Male        Second  CSE/IT                            2 to 3   \n",
       "4    Male        Second  CSE/IT                       More than 5   \n",
       "\n",
       "  Actively_involved_in_Specific_technology Exposure_to_DSA  \\\n",
       "0           Development;Research;Designing            Hard   \n",
       "1           Development;Competitive Coding          Medium   \n",
       "2                              Development          Medium   \n",
       "3                                     None          Medium   \n",
       "4                              Development          Medium   \n",
       "\n",
       "  Exposure_to_GitHub  Associated_with_any_developer_Community  \\\n",
       "0              Medium                                     Yes   \n",
       "1              Medium                                      No   \n",
       "2              Medium                                      No   \n",
       "3                Easy                                     Yes   \n",
       "4                Hard                                     Yes   \n",
       "\n",
       "  Active_in_developer_Communities  \\\n",
       "0                   Active Member   \n",
       "1               Moderately Active   \n",
       "2                 Inactive Member   \n",
       "3               Moderately Active   \n",
       "4                   Active Member   \n",
       "\n",
       "  Participating_in_Hackathons_and_other_competitions  \\\n",
       "0                                       Participated   \n",
       "1                               Not yet participated   \n",
       "2                               Not yet participated   \n",
       "3                               Not yet participated   \n",
       "4                                       Participated   \n",
       "\n",
       "  Made_any_Software_based_projects  \\\n",
       "0                              Yes   \n",
       "1                              Yes   \n",
       "2                              Yes   \n",
       "3                              Yes   \n",
       "4                              Yes   \n",
       "\n",
       "  Made_any_Hardware_based_project (Arduino, Raspberry Pi, Robots or any other)  \\\n",
       "0                                                 No                             \n",
       "1                                                 No                             \n",
       "2                                                 No                             \n",
       "3                                                Yes                             \n",
       "4                                                 No                             \n",
       "\n",
       "  Have_you_ever_pitched_any_idea          Additional_skills  \\\n",
       "0                            Yes        Cultural Activities   \n",
       "1                             No        Cultural Activities   \n",
       "2                             No  Photography;Video Editing   \n",
       "3                             No                       None   \n",
       "4                            Yes                       None   \n",
       "\n",
       "                                       Achievements  \n",
       "0  Scholarships;Hackathons;Research Papers;Projects  \n",
       "1                                              None  \n",
       "2                                              None  \n",
       "3                                              None  \n",
       "4           Hackathons;Coding Competitions;Projects  "
      ]
     },
     "execution_count": 33,
     "metadata": {},
     "output_type": "execute_result"
    }
   ],
   "source": [
    "college.head()"
   ]
  },
  {
   "cell_type": "code",
   "execution_count": 34,
   "id": "6d393e9b",
   "metadata": {},
   "outputs": [
    {
     "data": {
      "text/plain": [
       "array(['More than 5', '2 to 3', '1', '04-May'], dtype=object)"
      ]
     },
     "execution_count": 34,
     "metadata": {},
     "output_type": "execute_result"
    }
   ],
   "source": [
    "college['Programming_languages_do_you_know'].unique()"
   ]
  },
  {
   "cell_type": "code",
   "execution_count": 35,
   "id": "64fb959a",
   "metadata": {},
   "outputs": [
    {
     "name": "stderr",
     "output_type": "stream",
     "text": [
      "C:\\Users\\shagu\\AppData\\Local\\Temp\\ipykernel_10800\\2409780060.py:1: SettingWithCopyWarning: \n",
      "A value is trying to be set on a copy of a slice from a DataFrame\n",
      "\n",
      "See the caveats in the documentation: https://pandas.pydata.org/pandas-docs/stable/user_guide/indexing.html#returning-a-view-versus-a-copy\n",
      "  college.loc[college['Programming_languages_do_you_know'] == '04-May', 'Programming_languages_do_you_know'] = 'exact 4'\n"
     ]
    }
   ],
   "source": [
    "college.loc[college['Programming_languages_do_you_know'] == '04-May', 'Programming_languages_do_you_know'] = 'exact 4'"
   ]
  },
  {
   "cell_type": "markdown",
   "id": "4afb96d7",
   "metadata": {},
   "source": [
    "# Exploring data where students are not involved in any technology"
   ]
  },
  {
   "cell_type": "code",
   "execution_count": 36,
   "id": "3b8f706f",
   "metadata": {},
   "outputs": [],
   "source": [
    "no_tech = college[college['Actively_involved_in_Specific_technology'] == 'None']"
   ]
  },
  {
   "cell_type": "code",
   "execution_count": 37,
   "id": "cdf2d6e6",
   "metadata": {},
   "outputs": [
    {
     "data": {
      "text/plain": [
       "<AxesSubplot:xlabel='Programming_languages_do_you_know', ylabel='Count'>"
      ]
     },
     "execution_count": 37,
     "metadata": {},
     "output_type": "execute_result"
    },
    {
     "data": {
      "image/png": "[encoded data removed]",
      "text/plain": [
       "<Figure size 864x432 with 1 Axes>"
      ]
     },
     "metadata": {
      "needs_background": "light"
     },
     "output_type": "display_data"
    }
   ],
   "source": [
    "sns.histplot(x = 'Programming_languages_do_you_know', data = no_tech)"
   ]
  },
  {
   "cell_type": "code",
   "execution_count": 38,
   "id": "4e076323",
   "metadata": {},
   "outputs": [],
   "source": [
    "program_languages = no_tech[['Year_of_Study', 'Programming_languages_do_you_know']].groupby(['Year_of_Study', 'Programming_languages_do_you_know']).size().reset_index().rename(columns = {0:'Count'})"
   ]
  },
  {
   "cell_type": "code",
   "execution_count": 39,
   "id": "2a0ae0ab",
   "metadata": {},
   "outputs": [
    {
     "data": {
      "text/html": [
       "<div>\n",
       "<style scoped>\n",
       "    .dataframe tbody tr th:only-of-type {\n",
       "        vertical-align: middle;\n",
       "    }\n",
       "\n",
       "    .dataframe tbody tr th {\n",
       "        vertical-align: top;\n",
       "    }\n",
       "\n",
       "    .dataframe thead th {\n",
       "        text-align: right;\n",
       "    }\n",
       "</style>\n",
       "<table border=\"1\" class=\"dataframe\">\n",
       "  <thead>\n",
       "    <tr style=\"text-align: right;\">\n",
       "      <th></th>\n",
       "      <th>Year_of_Study</th>\n",
       "      <th>Programming_languages_do_you_know</th>\n",
       "      <th>Count</th>\n",
       "    </tr>\n",
       "  </thead>\n",
       "  <tbody>\n",
       "    <tr>\n",
       "      <th>0</th>\n",
       "      <td>First</td>\n",
       "      <td>1</td>\n",
       "      <td>14</td>\n",
       "    </tr>\n",
       "    <tr>\n",
       "      <th>1</th>\n",
       "      <td>First</td>\n",
       "      <td>2 to 3</td>\n",
       "      <td>6</td>\n",
       "    </tr>\n",
       "    <tr>\n",
       "      <th>2</th>\n",
       "      <td>Second</td>\n",
       "      <td>1</td>\n",
       "      <td>26</td>\n",
       "    </tr>\n",
       "    <tr>\n",
       "      <th>3</th>\n",
       "      <td>Second</td>\n",
       "      <td>2 to 3</td>\n",
       "      <td>7</td>\n",
       "    </tr>\n",
       "    <tr>\n",
       "      <th>4</th>\n",
       "      <td>Second</td>\n",
       "      <td>More than 5</td>\n",
       "      <td>1</td>\n",
       "    </tr>\n",
       "  </tbody>\n",
       "</table>\n",
       "</div>"
      ],
      "text/plain": [
       "  Year_of_Study Programming_languages_do_you_know  Count\n",
       "0         First                                 1     14\n",
       "1         First                            2 to 3      6\n",
       "2        Second                                 1     26\n",
       "3        Second                            2 to 3      7\n",
       "4        Second                       More than 5      1"
      ]
     },
     "execution_count": 39,
     "metadata": {},
     "output_type": "execute_result"
    }
   ],
   "source": [
    "program_languages.head()"
   ]
  },
  {
   "cell_type": "code",
   "execution_count": 40,
   "id": "ca45b6be",
   "metadata": {},
   "outputs": [
    {
     "data": {
      "text/plain": [
       "<AxesSubplot:xlabel='Programming_languages_do_you_know', ylabel='Count'>"
      ]
     },
     "execution_count": 40,
     "metadata": {},
     "output_type": "execute_result"
    },
    {
     "data": {
      "image/png": "[encoded data removed]",
      "text/plain": [
       "<Figure size 864x432 with 1 Axes>"
      ]
     },
     "metadata": {
      "needs_background": "light"
     },
     "output_type": "display_data"
    }
   ],
   "source": [
    "sns.barplot(x = 'Programming_languages_do_you_know', y = 'Count', hue = 'Year_of_Study', data = program_languages)"
   ]
  },
  {
   "cell_type": "markdown",
   "id": "68a4ddb2",
   "metadata": {},
   "source": [
    "Most of the students know only one programming language but either they are in first year or second year they will learn more programming languages as the graduation progresses.\n",
    "\n",
    "Moreover it is important to learn the basics and get familiarize with one programming language and later it is easy to learn new languages as syntax changes but logic remains the same."
   ]
  },
  {
   "cell_type": "code",
   "execution_count": 41,
   "id": "c7620a4e",
   "metadata": {},
   "outputs": [],
   "source": [
    "no_tech_involvement = no_tech[['Year_of_Study', 'Actively_involved_in_Specific_technology']].groupby(['Year_of_Study', 'Actively_involved_in_Specific_technology']).size().reset_index().rename(columns = {0:'Count'})"
   ]
  },
  {
   "cell_type": "code",
   "execution_count": 42,
   "id": "f0cba407",
   "metadata": {},
   "outputs": [
    {
     "data": {
      "text/html": [
       "<div>\n",
       "<style scoped>\n",
       "    .dataframe tbody tr th:only-of-type {\n",
       "        vertical-align: middle;\n",
       "    }\n",
       "\n",
       "    .dataframe tbody tr th {\n",
       "        vertical-align: top;\n",
       "    }\n",
       "\n",
       "    .dataframe thead th {\n",
       "        text-align: right;\n",
       "    }\n",
       "</style>\n",
       "<table border=\"1\" class=\"dataframe\">\n",
       "  <thead>\n",
       "    <tr style=\"text-align: right;\">\n",
       "      <th></th>\n",
       "      <th>Year_of_Study</th>\n",
       "      <th>Actively_involved_in_Specific_technology</th>\n",
       "      <th>Count</th>\n",
       "    </tr>\n",
       "  </thead>\n",
       "  <tbody>\n",
       "    <tr>\n",
       "      <th>0</th>\n",
       "      <td>First</td>\n",
       "      <td>None</td>\n",
       "      <td>20</td>\n",
       "    </tr>\n",
       "    <tr>\n",
       "      <th>1</th>\n",
       "      <td>Second</td>\n",
       "      <td>None</td>\n",
       "      <td>34</td>\n",
       "    </tr>\n",
       "    <tr>\n",
       "      <th>2</th>\n",
       "      <td>Third</td>\n",
       "      <td>None</td>\n",
       "      <td>1</td>\n",
       "    </tr>\n",
       "  </tbody>\n",
       "</table>\n",
       "</div>"
      ],
      "text/plain": [
       "  Year_of_Study Actively_involved_in_Specific_technology  Count\n",
       "0         First                                     None     20\n",
       "1        Second                                     None     34\n",
       "2         Third                                     None      1"
      ]
     },
     "execution_count": 42,
     "metadata": {},
     "output_type": "execute_result"
    }
   ],
   "source": [
    "no_tech_involvement.head()"
   ]
  },
  {
   "cell_type": "markdown",
   "id": "5c8e73a9",
   "metadata": {},
   "source": [
    "Again the same trend can be observed students involved in no technology are from first and second year"
   ]
  },
  {
   "cell_type": "code",
   "execution_count": 43,
   "id": "35f6e3b4",
   "metadata": {},
   "outputs": [],
   "source": [
    "tech = college[college['Actively_involved_in_Specific_technology'] != 'None']"
   ]
  },
  {
   "cell_type": "code",
   "execution_count": 44,
   "id": "d8418be8",
   "metadata": {},
   "outputs": [
    {
     "data": {
      "text/html": [
       "<div>\n",
       "<style scoped>\n",
       "    .dataframe tbody tr th:only-of-type {\n",
       "        vertical-align: middle;\n",
       "    }\n",
       "\n",
       "    .dataframe tbody tr th {\n",
       "        vertical-align: top;\n",
       "    }\n",
       "\n",
       "    .dataframe thead th {\n",
       "        text-align: right;\n",
       "    }\n",
       "</style>\n",
       "<table border=\"1\" class=\"dataframe\">\n",
       "  <thead>\n",
       "    <tr style=\"text-align: right;\">\n",
       "      <th></th>\n",
       "      <th>Gender</th>\n",
       "      <th>Year_of_Study</th>\n",
       "      <th>Branch</th>\n",
       "      <th>Programming_languages_do_you_know</th>\n",
       "      <th>Actively_involved_in_Specific_technology</th>\n",
       "      <th>Exposure_to_DSA</th>\n",
       "      <th>Exposure_to_GitHub</th>\n",
       "      <th>Associated_with_any_developer_Community</th>\n",
       "      <th>Active_in_developer_Communities</th>\n",
       "      <th>Participating_in_Hackathons_and_other_competitions</th>\n",
       "      <th>Made_any_Software_based_projects</th>\n",
       "      <th>Made_any_Hardware_based_project (Arduino, Raspberry Pi, Robots or any other)</th>\n",
       "      <th>Have_you_ever_pitched_any_idea</th>\n",
       "      <th>Additional_skills</th>\n",
       "      <th>Achievements</th>\n",
       "    </tr>\n",
       "  </thead>\n",
       "  <tbody>\n",
       "    <tr>\n",
       "      <th>0</th>\n",
       "      <td>Male</td>\n",
       "      <td>Third</td>\n",
       "      <td>CSE/IT</td>\n",
       "      <td>More than 5</td>\n",
       "      <td>Development;Research;Designing</td>\n",
       "      <td>Hard</td>\n",
       "      <td>Medium</td>\n",
       "      <td>Yes</td>\n",
       "      <td>Active Member</td>\n",
       "      <td>Participated</td>\n",
       "      <td>Yes</td>\n",
       "      <td>No</td>\n",
       "      <td>Yes</td>\n",
       "      <td>Cultural Activities</td>\n",
       "      <td>Scholarships;Hackathons;Research Papers;Projects</td>\n",
       "    </tr>\n",
       "    <tr>\n",
       "      <th>1</th>\n",
       "      <td>Female</td>\n",
       "      <td>Second</td>\n",
       "      <td>CSE/IT</td>\n",
       "      <td>2 to 3</td>\n",
       "      <td>Development;Competitive Coding</td>\n",
       "      <td>Medium</td>\n",
       "      <td>Medium</td>\n",
       "      <td>No</td>\n",
       "      <td>Moderately Active</td>\n",
       "      <td>Not yet participated</td>\n",
       "      <td>Yes</td>\n",
       "      <td>No</td>\n",
       "      <td>No</td>\n",
       "      <td>Cultural Activities</td>\n",
       "      <td>None</td>\n",
       "    </tr>\n",
       "    <tr>\n",
       "      <th>2</th>\n",
       "      <td>Male</td>\n",
       "      <td>Second</td>\n",
       "      <td>CSE/IT</td>\n",
       "      <td>2 to 3</td>\n",
       "      <td>Development</td>\n",
       "      <td>Medium</td>\n",
       "      <td>Medium</td>\n",
       "      <td>No</td>\n",
       "      <td>Inactive Member</td>\n",
       "      <td>Not yet participated</td>\n",
       "      <td>Yes</td>\n",
       "      <td>No</td>\n",
       "      <td>No</td>\n",
       "      <td>Photography;Video Editing</td>\n",
       "      <td>None</td>\n",
       "    </tr>\n",
       "    <tr>\n",
       "      <th>4</th>\n",
       "      <td>Male</td>\n",
       "      <td>Second</td>\n",
       "      <td>CSE/IT</td>\n",
       "      <td>More than 5</td>\n",
       "      <td>Development</td>\n",
       "      <td>Medium</td>\n",
       "      <td>Hard</td>\n",
       "      <td>Yes</td>\n",
       "      <td>Active Member</td>\n",
       "      <td>Participated</td>\n",
       "      <td>Yes</td>\n",
       "      <td>No</td>\n",
       "      <td>Yes</td>\n",
       "      <td>None</td>\n",
       "      <td>Hackathons;Coding Competitions;Projects</td>\n",
       "    </tr>\n",
       "    <tr>\n",
       "      <th>5</th>\n",
       "      <td>Male</td>\n",
       "      <td>Second</td>\n",
       "      <td>CSE/IT</td>\n",
       "      <td>2 to 3</td>\n",
       "      <td>Development;Research</td>\n",
       "      <td>Medium</td>\n",
       "      <td>Medium</td>\n",
       "      <td>Yes</td>\n",
       "      <td>Active Member</td>\n",
       "      <td>Participated and Won</td>\n",
       "      <td>Yes</td>\n",
       "      <td>No</td>\n",
       "      <td>Yes</td>\n",
       "      <td>Cultural Activities</td>\n",
       "      <td>Scholarships;Hackathons;Coding Competitions;Pr...</td>\n",
       "    </tr>\n",
       "  </tbody>\n",
       "</table>\n",
       "</div>"
      ],
      "text/plain": [
       "   Gender Year_of_Study  Branch Programming_languages_do_you_know  \\\n",
       "0    Male         Third  CSE/IT                       More than 5   \n",
       "1  Female        Second  CSE/IT                            2 to 3   \n",
       "2    Male        Second  CSE/IT                            2 to 3   \n",
       "4    Male        Second  CSE/IT                       More than 5   \n",
       "5    Male        Second  CSE/IT                            2 to 3   \n",
       "\n",
       "  Actively_involved_in_Specific_technology Exposure_to_DSA  \\\n",
       "0           Development;Research;Designing            Hard   \n",
       "1           Development;Competitive Coding          Medium   \n",
       "2                              Development          Medium   \n",
       "4                              Development          Medium   \n",
       "5                     Development;Research          Medium   \n",
       "\n",
       "  Exposure_to_GitHub  Associated_with_any_developer_Community  \\\n",
       "0              Medium                                     Yes   \n",
       "1              Medium                                      No   \n",
       "2              Medium                                      No   \n",
       "4                Hard                                     Yes   \n",
       "5              Medium                                     Yes   \n",
       "\n",
       "  Active_in_developer_Communities  \\\n",
       "0                   Active Member   \n",
       "1               Moderately Active   \n",
       "2                 Inactive Member   \n",
       "4                   Active Member   \n",
       "5                   Active Member   \n",
       "\n",
       "  Participating_in_Hackathons_and_other_competitions  \\\n",
       "0                                       Participated   \n",
       "1                               Not yet participated   \n",
       "2                               Not yet participated   \n",
       "4                                       Participated   \n",
       "5                               Participated and Won   \n",
       "\n",
       "  Made_any_Software_based_projects  \\\n",
       "0                              Yes   \n",
       "1                              Yes   \n",
       "2                              Yes   \n",
       "4                              Yes   \n",
       "5                              Yes   \n",
       "\n",
       "  Made_any_Hardware_based_project (Arduino, Raspberry Pi, Robots or any other)  \\\n",
       "0                                                 No                             \n",
       "1                                                 No                             \n",
       "2                                                 No                             \n",
       "4                                                 No                             \n",
       "5                                                 No                             \n",
       "\n",
       "  Have_you_ever_pitched_any_idea          Additional_skills  \\\n",
       "0                            Yes        Cultural Activities   \n",
       "1                             No        Cultural Activities   \n",
       "2                             No  Photography;Video Editing   \n",
       "4                            Yes                       None   \n",
       "5                            Yes        Cultural Activities   \n",
       "\n",
       "                                        Achievements  \n",
       "0   Scholarships;Hackathons;Research Papers;Projects  \n",
       "1                                               None  \n",
       "2                                               None  \n",
       "4            Hackathons;Coding Competitions;Projects  \n",
       "5  Scholarships;Hackathons;Coding Competitions;Pr...  "
      ]
     },
     "execution_count": 44,
     "metadata": {},
     "output_type": "execute_result"
    }
   ],
   "source": [
    "tech.head()"
   ]
  },
  {
   "cell_type": "code",
   "execution_count": 45,
   "id": "1b48b807",
   "metadata": {},
   "outputs": [
    {
     "data": {
      "text/plain": [
       "<AxesSubplot:xlabel='Programming_languages_do_you_know', ylabel='Count'>"
      ]
     },
     "execution_count": 45,
     "metadata": {},
     "output_type": "execute_result"
    },
    {
     "data": {
      "image/png": "[encoded data removed]",
      "text/plain": [
       "<Figure size 864x432 with 1 Axes>"
      ]
     },
     "metadata": {
      "needs_background": "light"
     },
     "output_type": "display_data"
    }
   ],
   "source": [
    "git_dsa = tech[['Gender', 'Year_of_Study', 'Programming_languages_do_you_know', 'Exposure_to_DSA', 'Exposure_to_GitHub ']].groupby(['Exposure_to_DSA', 'Programming_languages_do_you_know', 'Exposure_to_GitHub ']).size().reset_index().rename(columns = {0:'Count'})\n",
    "sns.barplot(x = 'Programming_languages_do_you_know', y = 'Count', hue = 'Exposure_to_DSA', data = git_dsa)"
   ]
  },
  {
   "cell_type": "markdown",
   "id": "20389ab3",
   "metadata": {},
   "source": [
    "Most students know 2 to 3 programming languages in their college life and almost every student is familiar with medium DSA which is required for the placements"
   ]
  },
  {
   "cell_type": "code",
   "execution_count": 46,
   "id": "e5fe7daa",
   "metadata": {},
   "outputs": [
    {
     "data": {
      "text/plain": [
       "<AxesSubplot:xlabel='Exposure_to_DSA', ylabel='Count'>"
      ]
     },
     "execution_count": 46,
     "metadata": {},
     "output_type": "execute_result"
    },
    {
     "data": {
      "image/png": "[encoded data removed]",
      "text/plain": [
       "<Figure size 864x432 with 1 Axes>"
      ]
     },
     "metadata": {
      "needs_background": "light"
     },
     "output_type": "display_data"
    }
   ],
   "source": [
    "sns.barplot(x = 'Exposure_to_DSA', y = 'Count', hue = 'Exposure_to_GitHub ', data = git_dsa)"
   ]
  },
  {
   "cell_type": "markdown",
   "id": "80f7604d",
   "metadata": {},
   "source": [
    "Those students who have medium knowledge in DSA they have medium level knowledge of GitHub as they upload their projects on GitHub for recruiters see them online\n",
    "\n",
    "Moreover to make an online presence students should know medium level GitHub"
   ]
  },
  {
   "cell_type": "code",
   "execution_count": 47,
   "id": "f7e865c6",
   "metadata": {},
   "outputs": [],
   "source": [
    "developer_Community = tech[['Gender', 'Year_of_Study', 'Associated_with_any_developer_Community', 'Active_in_developer_Communities', 'Participating_in_Hackathons_and_other_competitions', 'Made_any_Software_based_projects']]"
   ]
  },
  {
   "cell_type": "code",
   "execution_count": 48,
   "id": "2ca3e4b1",
   "metadata": {},
   "outputs": [
    {
     "data": {
      "text/html": [
       "<div>\n",
       "<style scoped>\n",
       "    .dataframe tbody tr th:only-of-type {\n",
       "        vertical-align: middle;\n",
       "    }\n",
       "\n",
       "    .dataframe tbody tr th {\n",
       "        vertical-align: top;\n",
       "    }\n",
       "\n",
       "    .dataframe thead th {\n",
       "        text-align: right;\n",
       "    }\n",
       "</style>\n",
       "<table border=\"1\" class=\"dataframe\">\n",
       "  <thead>\n",
       "    <tr style=\"text-align: right;\">\n",
       "      <th></th>\n",
       "      <th>Gender</th>\n",
       "      <th>Year_of_Study</th>\n",
       "      <th>Associated_with_any_developer_Community</th>\n",
       "      <th>Active_in_developer_Communities</th>\n",
       "      <th>Participating_in_Hackathons_and_other_competitions</th>\n",
       "      <th>Made_any_Software_based_projects</th>\n",
       "    </tr>\n",
       "  </thead>\n",
       "  <tbody>\n",
       "    <tr>\n",
       "      <th>0</th>\n",
       "      <td>Male</td>\n",
       "      <td>Third</td>\n",
       "      <td>Yes</td>\n",
       "      <td>Active Member</td>\n",
       "      <td>Participated</td>\n",
       "      <td>Yes</td>\n",
       "    </tr>\n",
       "    <tr>\n",
       "      <th>1</th>\n",
       "      <td>Female</td>\n",
       "      <td>Second</td>\n",
       "      <td>No</td>\n",
       "      <td>Moderately Active</td>\n",
       "      <td>Not yet participated</td>\n",
       "      <td>Yes</td>\n",
       "    </tr>\n",
       "    <tr>\n",
       "      <th>2</th>\n",
       "      <td>Male</td>\n",
       "      <td>Second</td>\n",
       "      <td>No</td>\n",
       "      <td>Inactive Member</td>\n",
       "      <td>Not yet participated</td>\n",
       "      <td>Yes</td>\n",
       "    </tr>\n",
       "    <tr>\n",
       "      <th>4</th>\n",
       "      <td>Male</td>\n",
       "      <td>Second</td>\n",
       "      <td>Yes</td>\n",
       "      <td>Active Member</td>\n",
       "      <td>Participated</td>\n",
       "      <td>Yes</td>\n",
       "    </tr>\n",
       "    <tr>\n",
       "      <th>5</th>\n",
       "      <td>Male</td>\n",
       "      <td>Second</td>\n",
       "      <td>Yes</td>\n",
       "      <td>Active Member</td>\n",
       "      <td>Participated and Won</td>\n",
       "      <td>Yes</td>\n",
       "    </tr>\n",
       "  </tbody>\n",
       "</table>\n",
       "</div>"
      ],
      "text/plain": [
       "   Gender Year_of_Study Associated_with_any_developer_Community  \\\n",
       "0    Male         Third                                     Yes   \n",
       "1  Female        Second                                      No   \n",
       "2    Male        Second                                      No   \n",
       "4    Male        Second                                     Yes   \n",
       "5    Male        Second                                     Yes   \n",
       "\n",
       "  Active_in_developer_Communities  \\\n",
       "0                   Active Member   \n",
       "1               Moderately Active   \n",
       "2                 Inactive Member   \n",
       "4                   Active Member   \n",
       "5                   Active Member   \n",
       "\n",
       "  Participating_in_Hackathons_and_other_competitions  \\\n",
       "0                                       Participated   \n",
       "1                               Not yet participated   \n",
       "2                               Not yet participated   \n",
       "4                                       Participated   \n",
       "5                               Participated and Won   \n",
       "\n",
       "  Made_any_Software_based_projects  \n",
       "0                              Yes  \n",
       "1                              Yes  \n",
       "2                              Yes  \n",
       "4                              Yes  \n",
       "5                              Yes  "
      ]
     },
     "execution_count": 48,
     "metadata": {},
     "output_type": "execute_result"
    }
   ],
   "source": [
    "developer_Community.head()"
   ]
  },
  {
   "cell_type": "code",
   "execution_count": 49,
   "id": "b5ef56b9",
   "metadata": {},
   "outputs": [],
   "source": [
    "Competitions = developer_Community.groupby(['Active_in_developer_Communities', 'Participating_in_Hackathons_and_other_competitions'])['Gender'].count().reset_index().rename(columns = {'Gender': \"Count\"})"
   ]
  },
  {
   "cell_type": "code",
   "execution_count": 50,
   "id": "e119f685",
   "metadata": {},
   "outputs": [
    {
     "data": {
      "text/plain": [
       "<AxesSubplot:xlabel='Active_in_developer_Communities', ylabel='Count'>"
      ]
     },
     "execution_count": 50,
     "metadata": {},
     "output_type": "execute_result"
    },
    {
     "data": {
      "image/png": "[encoded data removed]",
      "text/plain": [
       "<Figure size 864x432 with 1 Axes>"
      ]
     },
     "metadata": {
      "needs_background": "light"
     },
     "output_type": "display_data"
    }
   ],
   "source": [
    "sns.barplot(x = 'Active_in_developer_Communities', y = 'Count', hue = 'Participating_in_Hackathons_and_other_competitions', data = Competitions)"
   ]
  },
  {
   "cell_type": "markdown",
   "id": "db42a466",
   "metadata": {},
   "source": [
    "# Observations:\n",
    "    \n",
    "    Students those who are active in developer communities are participating in hackathons \n",
    "    \n",
    "    The number of students participating in hackathons is almost 50% so college and teachers should encourage students to take part in hackathons"
   ]
  },
  {
   "cell_type": "code",
   "execution_count": 51,
   "id": "e658b0ef",
   "metadata": {},
   "outputs": [],
   "source": [
    "projects = developer_Community.groupby(['Made_any_Software_based_projects', 'Participating_in_Hackathons_and_other_competitions'])['Gender'].count().reset_index().rename(columns = {'Gender': \"Count\"})"
   ]
  },
  {
   "cell_type": "code",
   "execution_count": 52,
   "id": "77ff5ccc",
   "metadata": {},
   "outputs": [
    {
     "data": {
      "text/plain": [
       "<AxesSubplot:xlabel='Participating_in_Hackathons_and_other_competitions', ylabel='Count'>"
      ]
     },
     "execution_count": 52,
     "metadata": {},
     "output_type": "execute_result"
    },
    {
     "data": {
      "image/png": "[encoded data removed]",
      "text/plain": [
       "<Figure size 864x432 with 1 Axes>"
      ]
     },
     "metadata": {
      "needs_background": "light"
     },
     "output_type": "display_data"
    }
   ],
   "source": [
    "sns.barplot(x = 'Participating_in_Hackathons_and_other_competitions', y = 'Count', hue = 'Made_any_Software_based_projects', data = projects)"
   ]
  },
  {
   "cell_type": "markdown",
   "id": "5f9f50f5",
   "metadata": {},
   "source": [
    "Those who have not participated in hackathons they have not worked on any software projects\n",
    "\n",
    "There is still a quite good number of students who have not worked on any project inspite of participating on hackathons"
   ]
  },
  {
   "cell_type": "markdown",
   "id": "a18dd977",
   "metadata": {},
   "source": [
    "# Final Recommandations"
   ]
  },
  {
   "cell_type": "markdown",
   "id": "91ae70f0",
   "metadata": {},
   "source": [
    "1. Studnets should learn atleast 2 programming languages in their college.\n",
    "2. They should have medium level knowledge or exposure to DSA and GitHub.\n",
    "3. Students should take part in Hackathons and they should be active in developer communities as it will teach them new things as everything can not be taught in college.\n",
    "4. Students should make 3-4 good projects in their college as these projects are one of the things that will reflect their knowledge as freshers do not have any experience.\n",
    "\n",
    "These were some recommandations for the students so that they can get good placements "
   ]
  }
 ],
 "metadata": {
  "kernelspec": {
   "display_name": "Python 3 (ipykernel)",
   "language": "python",
   "name": "python3"
  },
  "language_info": {
   "codemirror_mode": {
    "name": "ipython",
    "version": 3
   },
   "file_extension": ".py",
   "mimetype": "text/x-python",
   "name": "python",
   "nbconvert_exporter": "python",
   "pygments_lexer": "ipython3",
   "version": "3.9.12"
  }
 },
 "nbformat": 4,
 "nbformat_minor": 5
}
